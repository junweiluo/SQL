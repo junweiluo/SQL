{
 "cells": [
  {
   "cell_type": "markdown",
   "metadata": {},
   "source": [
    "  # Challenge\n",
    "\n",
    "  ## Identifying Outliers using Standard Deviation"
   ]
  },
  {
   "cell_type": "code",
   "execution_count": 1,
   "metadata": {},
   "outputs": [],
   "source": [
    "# initial imports\n",
    "import os\n",
    "import pandas as pd\n",
    "import numpy as np\n",
    "import random\n",
    "from sqlalchemy import create_engine"
   ]
  },
  {
   "cell_type": "code",
   "execution_count": 2,
   "metadata": {},
   "outputs": [
    {
     "data": {
      "text/html": [
       "<div>\n",
       "<style scoped>\n",
       "    .dataframe tbody tr th:only-of-type {\n",
       "        vertical-align: middle;\n",
       "    }\n",
       "\n",
       "    .dataframe tbody tr th {\n",
       "        vertical-align: top;\n",
       "    }\n",
       "\n",
       "    .dataframe thead th {\n",
       "        text-align: right;\n",
       "    }\n",
       "</style>\n",
       "<table border=\"1\" class=\"dataframe\">\n",
       "  <thead>\n",
       "    <tr style=\"text-align: right;\">\n",
       "      <th></th>\n",
       "      <th>id</th>\n",
       "      <th>date</th>\n",
       "      <th>amount</th>\n",
       "    </tr>\n",
       "  </thead>\n",
       "  <tbody>\n",
       "    <tr>\n",
       "      <th>0</th>\n",
       "      <td>13</td>\n",
       "      <td>2018-01-01</td>\n",
       "      <td>6.22</td>\n",
       "    </tr>\n",
       "    <tr>\n",
       "      <th>1</th>\n",
       "      <td>13</td>\n",
       "      <td>2018-01-01</td>\n",
       "      <td>3.83</td>\n",
       "    </tr>\n",
       "    <tr>\n",
       "      <th>2</th>\n",
       "      <td>10</td>\n",
       "      <td>2018-01-01</td>\n",
       "      <td>9.61</td>\n",
       "    </tr>\n",
       "    <tr>\n",
       "      <th>3</th>\n",
       "      <td>4</td>\n",
       "      <td>2018-01-01</td>\n",
       "      <td>19.03</td>\n",
       "    </tr>\n",
       "    <tr>\n",
       "      <th>4</th>\n",
       "      <td>18</td>\n",
       "      <td>2018-01-01</td>\n",
       "      <td>2.95</td>\n",
       "    </tr>\n",
       "  </tbody>\n",
       "</table>\n",
       "</div>"
      ],
      "text/plain": [
       "   id        date  amount\n",
       "0  13  2018-01-01    6.22\n",
       "1  13  2018-01-01    3.83\n",
       "2  10  2018-01-01    9.61\n",
       "3   4  2018-01-01   19.03\n",
       "4  18  2018-01-01    2.95"
      ]
     },
     "execution_count": 2,
     "metadata": {},
     "output_type": "execute_result"
    }
   ],
   "source": [
    "# create a connection to the database\n",
    "engine= ('postgresql://{username}:{password}@{ipaddress}:{port}/{dbname}'\n",
    "         .format(username='postgres',\n",
    "                 password=os.getenv('PGAdmin_PW'),\n",
    "                 ipaddress='localhost',\n",
    "                 port='5432',\n",
    "                 dbname='fraud_detection')\n",
    "        )\n",
    "\n",
    "query = \"select a.id, c.date, c.amount \\\n",
    "from card_holder a \\\n",
    "inner join credit_card b \\\n",
    "on a.id = b.cardholder_id \\\n",
    "inner join transaction c \\\n",
    "on b.card = c.card\"\n",
    "\n",
    "df = pd.read_sql(query, engine)\n",
    "df.head()"
   ]
  },
  {
   "cell_type": "code",
   "execution_count": 3,
   "metadata": {},
   "outputs": [],
   "source": [
    "# code a function to identify outliers based on standard deviation\n",
    "def card_transaction(input_id):\n",
    "    return df.loc[df['id']==input_id, 'amount']\n",
    "\n",
    "def outliers(input_id):\n",
    "    df1 =card_transaction(input_id)\n",
    "    return pd.DataFrame(df1[df1> df1.mean()+3*df1.std()])"
   ]
  },
  {
   "cell_type": "code",
   "execution_count": 4,
   "metadata": {},
   "outputs": [
    {
     "name": "stdout",
     "output_type": "stream",
     "text": [
      "Card holder 20 has no outlier transactions.\n",
      "Card holder 24 has outlier transactions as below:\n",
      "      amount\n",
      "797   1011.0\n",
      "1260  1901.0\n",
      "3405  1301.0\n",
      "3433  1035.0.\n",
      "Card holder 11 has no outlier transactions.\n"
     ]
    }
   ],
   "source": [
    "# find anomalous transactions for 3 random card holders\n",
    "rand_card_holders = np.random.randint(1,25,3)\n",
    "\n",
    "for id in rand_card_holders:\n",
    "    if len(outliers(id)) == 0:\n",
    "        print(f\"Card holder {id} has no outlier transactions.\")\n",
    "    else:\n",
    "        print(f\"Card holder {id} has outlier transactions as below:\\n{outliers(id)}.\")"
   ]
  },
  {
   "cell_type": "markdown",
   "metadata": {},
   "source": [
    "  ## Identifying Outliers Using Interquartile Range"
   ]
  },
  {
   "cell_type": "code",
   "execution_count": 5,
   "metadata": {},
   "outputs": [],
   "source": [
    "# code a function to identify outliers based on interquartile range\n",
    "def outliers_iqr(input_id):\n",
    "    df1 =card_transaction(input_id)\n",
    "    IQR_threshold = np.quantile(df1, .75)+(np.quantile(df1, .75)-np.quantile(df1, .25))*1.5\n",
    "    return pd.DataFrame(df1[df1> IQR_threshold])"
   ]
  },
  {
   "cell_type": "code",
   "execution_count": 6,
   "metadata": {},
   "outputs": [
    {
     "name": "stdout",
     "output_type": "stream",
     "text": [
      "Card holder 20 has no outlier transactions.\n",
      "Card holder 24 has outlier transactions as below:\n",
      "      amount\n",
      "797   1011.0\n",
      "1107   525.0\n",
      "1260  1901.0\n",
      "1652   258.0\n",
      "1984   291.0\n",
      "3064   466.0\n",
      "3405  1301.0\n",
      "3433  1035.0.\n",
      "Card holder 11 has no outlier transactions.\n"
     ]
    }
   ],
   "source": [
    "# find anomalous transactions for 3 random card holders\n",
    "#rand_card_holders = np.random.randint(1,25,3)\n",
    "#Use the 3 random card as above for comparison\n",
    "for id in rand_card_holders:\n",
    "    if len(outliers_iqr(id)) == 0:\n",
    "        print(f\"Card holder {id} has no outlier transactions.\")\n",
    "    else:\n",
    "        print(f\"Card holder {id} has outlier transactions as below:\\n{outliers_iqr(id)}.\")"
   ]
  }
 ],
 "metadata": {
  "file_extension": ".py",
  "kernelspec": {
   "display_name": "Python 3",
   "language": "python",
   "name": "python3"
  },
  "language_info": {
   "codemirror_mode": {
    "name": "ipython",
    "version": 3
   },
   "file_extension": ".py",
   "mimetype": "text/x-python",
   "name": "python",
   "nbconvert_exporter": "python",
   "pygments_lexer": "ipython3",
   "version": "3.7.4"
  },
  "mimetype": "text/x-python",
  "name": "python",
  "npconvert_exporter": "python",
  "pygments_lexer": "ipython3",
  "version": 3
 },
 "nbformat": 4,
 "nbformat_minor": 4
}
